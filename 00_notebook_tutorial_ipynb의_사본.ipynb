{
  "nbformat": 4,
  "nbformat_minor": 0,
  "metadata": {
    "kernelspec": {
      "display_name": "Python 3",
      "language": "python",
      "name": "python3"
    },
    "colab": {
      "name": "00_notebook_tutorial.ipynb의 사본",
      "provenance": [],
      "include_colab_link": true
    }
  },
  "cells": [
    {
      "cell_type": "markdown",
      "metadata": {
        "id": "view-in-github",
        "colab_type": "text"
      },
      "source": [
        "<a href=\"https://colab.research.google.com/github/soyeon6731/class_2020fall/blob/master/00_notebook_tutorial_ipynb%EC%9D%98_%EC%82%AC%EB%B3%B8.ipynb\" target=\"_parent\"><img src=\"https://colab.research.google.com/assets/colab-badge.svg\" alt=\"Open In Colab\"/></a>"
      ]
    },
    {
      "cell_type": "markdown",
      "metadata": {
        "id": "bqkCfF0b3t3O",
        "colab_type": "text"
      },
      "source": [
        "**Important note:** You should always work on a duplicate of the course notebook. On the page you used to open this, tick the box next to the name of the notebook and click duplicate to easily create a new version of this notebook.\n",
        "\n",
        "You will get errors each time you try to update your course repository if you don't do this, and your changes will end up being erased by the original course version."
      ]
    },
    {
      "cell_type": "markdown",
      "metadata": {
        "id": "aq3YE6Qn3t3Q",
        "colab_type": "text"
      },
      "source": [
        "# Welcome to Jupyter Notebooks!"
      ]
    },
    {
      "cell_type": "markdown",
      "metadata": {
        "id": "XYhkgVX-3t3S",
        "colab_type": "text"
      },
      "source": [
        "If you want to learn how to use this tool you've come to the right place. This article will teach you all you need to know to use Jupyter Notebooks effectively. You only need to go through Section 1 to learn the basics and you can go into Section 2 if you want to further increase your productivity."
      ]
    },
    {
      "cell_type": "markdown",
      "metadata": {
        "id": "bbU8HbLN3t3U",
        "colab_type": "text"
      },
      "source": [
        "You might be reading this tutorial in a web page (maybe Github or the course's webpage). We strongly suggest to read this tutorial in a (yes, you guessed it) Jupyter Notebook. This way you will be able to actually *try* the different commands we will introduce here."
      ]
    },
    {
      "cell_type": "markdown",
      "metadata": {
        "id": "DIsNJIlo3t3V",
        "colab_type": "text"
      },
      "source": [
        "## Section 1: Need to Know"
      ]
    },
    {
      "cell_type": "markdown",
      "metadata": {
        "id": "wwhVGujx3t3a",
        "colab_type": "text"
      },
      "source": [
        "### Introduction"
      ]
    },
    {
      "cell_type": "markdown",
      "metadata": {
        "id": "3XX9XAoc3t3c",
        "colab_type": "text"
      },
      "source": [
        "Let's build up from the basics, what is a Jupyter Notebook? Well, you are reading one. It is a document made of cells. You can write like I am writing now (markdown cells) or you can perform calculations in Python (code cells) and run them like this:"
      ]
    },
    {
      "cell_type": "code",
      "metadata": {
        "id": "MbXRNsOw3t3d",
        "colab_type": "code",
        "colab": {
          "base_uri": "https://localhost:8080/",
          "height": 34
        },
        "outputId": "195999f5-c3c3-48e4-fddc-9f16660b0a95"
      },
      "source": [
        "1+1"
      ],
      "execution_count": null,
      "outputs": [
        {
          "output_type": "execute_result",
          "data": {
            "text/plain": [
              "2"
            ]
          },
          "metadata": {
            "tags": []
          },
          "execution_count": 1
        }
      ]
    },
    {
      "cell_type": "markdown",
      "metadata": {
        "id": "n3EXcSxT3t3n",
        "colab_type": "text"
      },
      "source": [
        "Cool huh? This combination of prose and code makes Jupyter Notebook ideal for experimentation: we can see the rationale for each experiment, the code and the results in one comprehensive document. In fast.ai, each lesson is documented in a notebook and you can later use that notebook to experiment yourself. \n",
        "\n",
        "Other renowned institutions in academy and industry use Jupyter Notebook: Google, Microsoft, IBM, Bloomberg, Berkeley and NASA among others. Even Nobel-winning economists [use Jupyter Notebooks](https://paulromer.net/jupyter-mathematica-and-the-future-of-the-research-paper/)  for their experiments and some suggest that Jupyter Notebooks will be the [new format for research papers](https://www.theatlantic.com/science/archive/2018/04/the-scientific-paper-is-obsolete/556676/)."
      ]
    },
    {
      "cell_type": "markdown",
      "metadata": {
        "id": "epVNnmVB3t3p",
        "colab_type": "text"
      },
      "source": [
        "### Writing"
      ]
    },
    {
      "cell_type": "markdown",
      "metadata": {
        "id": "E2TSvVEe3t3p",
        "colab_type": "text"
      },
      "source": [
        "A type of cell in which you can write like this is called _Markdown_. [_Markdown_](https://en.wikipedia.org/wiki/Markdown) is a very popular markup language. To specify that a cell is _Markdown_ you need to click in the drop-down menu in the toolbar and select _Markdown_."
      ]
    },
    {
      "cell_type": "markdown",
      "metadata": {
        "id": "JjcZPfaX3t3q",
        "colab_type": "text"
      },
      "source": [
        "Click on the the '+' button on the left and select _Markdown_ from the toolbar."
      ]
    },
    {
      "cell_type": "markdown",
      "metadata": {
        "id": "rQQB-tUc3t3r",
        "colab_type": "text"
      },
      "source": [
        "Now you can type your first _Markdown_ cell. Write 'My first markdown cell' and press run."
      ]
    },
    {
      "cell_type": "markdown",
      "metadata": {
        "id": "UIzIpq2S3t3r",
        "colab_type": "text"
      },
      "source": [
        "![add](https://github.com/moonryul/course-v3/blob/master/nbs/dl1/images/notebook_tutorial/add.png?raw=1)"
      ]
    },
    {
      "cell_type": "markdown",
      "metadata": {
        "id": "rGIuzmKk3t3s",
        "colab_type": "text"
      },
      "source": [
        "You should see something like this:"
      ]
    },
    {
      "cell_type": "markdown",
      "metadata": {
        "id": "ZyMK29mt3t3s",
        "colab_type": "text"
      },
      "source": [
        "My first markdown cell"
      ]
    },
    {
      "cell_type": "markdown",
      "metadata": {
        "id": "18cN7gy-3t3t",
        "colab_type": "text"
      },
      "source": [
        "Now try making your first _Code_ cell: follow the same steps as before but don't change the cell type (when you add a cell its default type is _Code_). Type something like 3/2. You should see '1.5' as output."
      ]
    },
    {
      "cell_type": "code",
      "metadata": {
        "id": "OyEJXAhJ3t3u",
        "colab_type": "code",
        "colab": {
          "base_uri": "https://localhost:8080/",
          "height": 34
        },
        "outputId": "9c7b7225-3724-4bb2-e32e-2ee17b14824e"
      },
      "source": [
        "3/2"
      ],
      "execution_count": null,
      "outputs": [
        {
          "output_type": "execute_result",
          "data": {
            "text/plain": [
              "1.5"
            ]
          },
          "metadata": {
            "tags": []
          },
          "execution_count": 2
        }
      ]
    },
    {
      "cell_type": "markdown",
      "metadata": {
        "id": "T-me45PL3t30",
        "colab_type": "text"
      },
      "source": [
        "### Modes"
      ]
    },
    {
      "cell_type": "markdown",
      "metadata": {
        "id": "SUuiCcIv3t31",
        "colab_type": "text"
      },
      "source": [
        "If you made a mistake in your *Markdown* cell and you have already ran it, you will notice that you cannot edit it just by clicking on it. This is because you are in **Command Mode**. Jupyter Notebooks have two distinct modes:\n",
        "\n",
        "1. **Edit Mode**: Allows you to edit a cell's content.\n",
        "\n",
        "2. **Command Mode**: Allows you to edit the notebook as a whole and use keyboard shortcuts but not edit a cell's content. \n",
        "\n",
        "You can toggle between these two by either pressing <kbd>ESC</kbd> and <kbd>Enter</kbd> or clicking outside a cell or inside it (you need to double click if its a Markdown cell). You can always know which mode you're on since the current cell has a green border if in **Edit Mode** and a blue border in **Command Mode**. Try it!"
      ]
    },
    {
      "cell_type": "markdown",
      "metadata": {
        "id": "6Xhbss8Y3t32",
        "colab_type": "text"
      },
      "source": [
        "### Other Important Considerations"
      ]
    },
    {
      "cell_type": "markdown",
      "metadata": {
        "id": "tUzVwLJQ3t32",
        "colab_type": "text"
      },
      "source": [
        "1. Your notebook is autosaved every 120 seconds. If you want to manually save it you can just press the save button on the upper left corner or press <kbd>s</kbd> in **Command Mode**."
      ]
    },
    {
      "cell_type": "markdown",
      "metadata": {
        "id": "1iJykcnz3t33",
        "colab_type": "text"
      },
      "source": [
        "![Save](https://github.com/moonryul/course-v3/blob/master/nbs/dl1/images/notebook_tutorial/save.png?raw=1)"
      ]
    },
    {
      "cell_type": "markdown",
      "metadata": {
        "id": "TMIgctxF3t33",
        "colab_type": "text"
      },
      "source": [
        "2. To know if your kernel is computing or not you can check the dot in your upper right corner. If the dot is full, it means that the kernel is working. If not, it is idle. You can place the mouse on it and see the state of the kernel be displayed."
      ]
    },
    {
      "cell_type": "markdown",
      "metadata": {
        "id": "cXQpaAhy3t34",
        "colab_type": "text"
      },
      "source": [
        "![Busy](https://github.com/moonryul/course-v3/blob/master/nbs/dl1/images/notebook_tutorial/busy.png?raw=1)"
      ]
    },
    {
      "cell_type": "markdown",
      "metadata": {
        "id": "eAm8F_wJ3t34",
        "colab_type": "text"
      },
      "source": [
        "3. There are a couple of shortcuts you must know about which we use **all** the time (always in **Command Mode**). These are:\n",
        "\n",
        "<kbd>Shift</kbd>+<kbd>Enter</kbd>: Runs the code or markdown on a cell\n",
        "\n",
        "<kbd>Up Arrow</kbd>+<kbd>Down Arrow</kbd>: Toggle across cells\n",
        "\n",
        "<kbd>b</kbd>: Create new cell\n",
        "\n",
        "<kbd>0</kbd>+<kbd>0</kbd>: Reset Kernel\n",
        "\n",
        "You can find more shortcuts in the Shortcuts section below."
      ]
    },
    {
      "cell_type": "markdown",
      "metadata": {
        "id": "xJKgtk6k3t35",
        "colab_type": "text"
      },
      "source": [
        "4. You may need to use a terminal in a Jupyter Notebook environment (for example to git pull on a repository). That is very easy to do, just press 'New' in your Home directory and 'Terminal'. Don't know how to use the Terminal? We made a tutorial for that as well. You can find it [here](https://course.fast.ai/terminal_tutorial.html)."
      ]
    },
    {
      "cell_type": "markdown",
      "metadata": {
        "id": "6xaQ_ZTg3t36",
        "colab_type": "text"
      },
      "source": [
        "![Terminal](https://github.com/moonryul/course-v3/blob/master/nbs/dl1/images/notebook_tutorial/terminal.png?raw=1)"
      ]
    },
    {
      "cell_type": "markdown",
      "metadata": {
        "id": "5fkrO8we3t37",
        "colab_type": "text"
      },
      "source": [
        "That's it. This is all you need to know to use Jupyter Notebooks. That said, we have more tips and tricks below ↓↓↓"
      ]
    },
    {
      "cell_type": "markdown",
      "metadata": {
        "id": "GCTKaN_O3t38",
        "colab_type": "text"
      },
      "source": [
        "## Section 2: Going deeper"
      ]
    },
    {
      "cell_type": "markdown",
      "metadata": {
        "hide_input": false,
        "id": "w8FicTKY3t38",
        "colab_type": "text"
      },
      "source": [
        "### Markdown formatting"
      ]
    },
    {
      "cell_type": "markdown",
      "metadata": {
        "id": "PeAu9Ojq3t39",
        "colab_type": "text"
      },
      "source": [
        "#### Italics, Bold, Strikethrough, Inline, Blockquotes and Links"
      ]
    },
    {
      "cell_type": "markdown",
      "metadata": {
        "id": "CEUOWzPJ3t39",
        "colab_type": "text"
      },
      "source": [
        "The five most important concepts to format your code appropriately when using markdown are:\n",
        "    \n",
        "1. *Italics*: Surround your text with '\\_' or '\\*'\n",
        "2. **Bold**: Surround your text with '\\__' or '\\**'\n",
        "3. `inline`: Surround your text with '\\`'\n",
        "4.  > blockquote: Place '\\>' before your text.\n",
        "5.  [Links](https://course.fast.ai/): Surround the text you want to link with '\\[\\]' and place the link adjacent to the text, surrounded with '()'\n"
      ]
    },
    {
      "cell_type": "markdown",
      "metadata": {
        "id": "dt_iI3qn3t3-",
        "colab_type": "text"
      },
      "source": [
        "#### Headings"
      ]
    },
    {
      "cell_type": "markdown",
      "metadata": {
        "id": "dBr_rhGI3t3-",
        "colab_type": "text"
      },
      "source": [
        "Notice that including a hashtag before the text in a markdown cell makes the text a heading. The number of hashtags you include will determine the priority of the header ('#' is level one, '##' is level two, '###' is level three and '####' is level four). We will add three new cells with the '+' button on the left to see how every level of heading looks."
      ]
    },
    {
      "cell_type": "markdown",
      "metadata": {
        "id": "zAhOhlgE3t3_",
        "colab_type": "text"
      },
      "source": [
        "Double click on some headings and find out what level they are!"
      ]
    },
    {
      "cell_type": "markdown",
      "metadata": {
        "id": "EsQKeDMh3t4A",
        "colab_type": "text"
      },
      "source": [
        "#### Lists"
      ]
    },
    {
      "cell_type": "markdown",
      "metadata": {
        "id": "jdUcl4wJ3t4A",
        "colab_type": "text"
      },
      "source": [
        "There are three types of lists in markdown."
      ]
    },
    {
      "cell_type": "markdown",
      "metadata": {
        "id": "8t9eK2o03t4B",
        "colab_type": "text"
      },
      "source": [
        "Ordered list:\n",
        "\n",
        "1. Step 1\n",
        "    2. Step 1B\n",
        "3. Step 3"
      ]
    },
    {
      "cell_type": "markdown",
      "metadata": {
        "id": "1zrDPEjh3t4B",
        "colab_type": "text"
      },
      "source": [
        "Unordered list\n",
        "\n",
        "* learning rate\n",
        "* cycle length\n",
        "* weight decay"
      ]
    },
    {
      "cell_type": "markdown",
      "metadata": {
        "id": "LiOW8nZQ3t4D",
        "colab_type": "text"
      },
      "source": [
        "Task list\n",
        "\n",
        "- [x] Learn Jupyter Notebooks\n",
        "    - [x] Writing\n",
        "    - [x] Modes\n",
        "    - [x] Other Considerations\n",
        "- [ ] Change the world"
      ]
    },
    {
      "cell_type": "markdown",
      "metadata": {
        "id": "oZj-ZLyx3t4D",
        "colab_type": "text"
      },
      "source": [
        "Double click on each to see how they are built! "
      ]
    },
    {
      "cell_type": "markdown",
      "metadata": {
        "id": "aZ0HBdxn3t4E",
        "colab_type": "text"
      },
      "source": [
        "### Code Capabilities"
      ]
    },
    {
      "cell_type": "markdown",
      "metadata": {
        "id": "k375IwAs3t4F",
        "colab_type": "text"
      },
      "source": [
        "**Code** cells are different than **Markdown** cells in that they have an output cell. This means that we can _keep_ the results of our code within the notebook and share them. Let's say we want to show a graph that explains the result of an experiment. We can just run the necessary cells and save the notebook. The output will be there when we open it again! Try it out by running the next four cells."
      ]
    },
    {
      "cell_type": "code",
      "metadata": {
        "id": "nAOGBYHg3t4G",
        "colab_type": "code",
        "colab": {}
      },
      "source": [
        "# Import necessary libraries\n",
        "from fastai.vision import * \n",
        "import matplotlib.pyplot as plt"
      ],
      "execution_count": null,
      "outputs": []
    },
    {
      "cell_type": "code",
      "metadata": {
        "id": "gez2-k0J3t4J",
        "colab_type": "code",
        "colab": {}
      },
      "source": [
        "from PIL import Image"
      ],
      "execution_count": null,
      "outputs": []
    },
    {
      "cell_type": "code",
      "metadata": {
        "id": "yMYzNnhw3t4N",
        "colab_type": "code",
        "colab": {
          "base_uri": "https://localhost:8080/",
          "height": 34
        },
        "outputId": "4c53aae6-06ce-4ad4-ed2f-da27a7adefcb"
      },
      "source": [
        "a = 1\n",
        "b = a + 1\n",
        "c = b + a + 1\n",
        "d = c + b + a + 1\n",
        "a, b, c ,d"
      ],
      "execution_count": null,
      "outputs": [
        {
          "output_type": "execute_result",
          "data": {
            "text/plain": [
              "(1, 2, 4, 8)"
            ]
          },
          "metadata": {
            "tags": []
          },
          "execution_count": 5
        }
      ]
    },
    {
      "cell_type": "code",
      "metadata": {
        "id": "IpZxpssW3t4R",
        "colab_type": "code",
        "colab": {
          "base_uri": "https://localhost:8080/",
          "height": 265
        },
        "outputId": "57238c75-231e-4736-9234-26ea9615e48d"
      },
      "source": [
        "plt.plot([a,b,c,d])\n",
        "plt.show()"
      ],
      "execution_count": null,
      "outputs": [
        {
          "output_type": "display_data",
          "data": {
            "image/png": "[encoded data removed]",
            "text/plain": [
              "<Figure size 432x288 with 1 Axes>"
            ]
          },
          "metadata": {
            "tags": [],
            "needs_background": "light"
          }
        }
      ]
    },
    {
      "cell_type": "markdown",
      "metadata": {
        "id": "W_SIJU7C3t4Z",
        "colab_type": "text"
      },
      "source": [
        "We can also print images while experimenting. I am watching you."
      ]
    },
    {
      "cell_type": "code",
      "metadata": {
        "id": "D48-Dnay3t4Z",
        "colab_type": "code",
        "colab": {
          "base_uri": "https://localhost:8080/",
          "height": 292
        },
        "outputId": "f7b46070-8c25-42d1-ed10-8bab2d04f63e"
      },
      "source": [
        "Image.open('images/notebook_tutorial/cat_example.jpg')"
      ],
      "execution_count": null,
      "outputs": [
        {
          "output_type": "error",
          "ename": "FileNotFoundError",
          "evalue": "ignored",
          "traceback": [
            "\u001b[0;31m---------------------------------------------------------------------------\u001b[0m",
            "\u001b[0;31mFileNotFoundError\u001b[0m                         Traceback (most recent call last)",
            "\u001b[0;32m<ipython-input-7-a6d739aab8ba>\u001b[0m in \u001b[0;36m<module>\u001b[0;34m()\u001b[0m\n\u001b[0;32m----> 1\u001b[0;31m \u001b[0mImage\u001b[0m\u001b[0;34m.\u001b[0m\u001b[0mopen\u001b[0m\u001b[0;34m(\u001b[0m\u001b[0;34m'images/notebook_tutorial/cat_example.jpg'\u001b[0m\u001b[0;34m)\u001b[0m\u001b[0;34m\u001b[0m\u001b[0;34m\u001b[0m\u001b[0m\n\u001b[0m",
            "\u001b[0;32m/usr/local/lib/python3.6/dist-packages/PIL/Image.py\u001b[0m in \u001b[0;36mopen\u001b[0;34m(fp, mode)\u001b[0m\n\u001b[1;32m   2807\u001b[0m \u001b[0;34m\u001b[0m\u001b[0m\n\u001b[1;32m   2808\u001b[0m     \u001b[0;32mif\u001b[0m \u001b[0mfilename\u001b[0m\u001b[0;34m:\u001b[0m\u001b[0;34m\u001b[0m\u001b[0;34m\u001b[0m\u001b[0m\n\u001b[0;32m-> 2809\u001b[0;31m         \u001b[0mfp\u001b[0m \u001b[0;34m=\u001b[0m \u001b[0mbuiltins\u001b[0m\u001b[0;34m.\u001b[0m\u001b[0mopen\u001b[0m\u001b[0;34m(\u001b[0m\u001b[0mfilename\u001b[0m\u001b[0;34m,\u001b[0m \u001b[0;34m\"rb\"\u001b[0m\u001b[0;34m)\u001b[0m\u001b[0;34m\u001b[0m\u001b[0;34m\u001b[0m\u001b[0m\n\u001b[0m\u001b[1;32m   2810\u001b[0m         \u001b[0mexclusive_fp\u001b[0m \u001b[0;34m=\u001b[0m \u001b[0;32mTrue\u001b[0m\u001b[0;34m\u001b[0m\u001b[0;34m\u001b[0m\u001b[0m\n\u001b[1;32m   2811\u001b[0m \u001b[0;34m\u001b[0m\u001b[0m\n",
            "\u001b[0;31mFileNotFoundError\u001b[0m: [Errno 2] No such file or directory: 'images/notebook_tutorial/cat_example.jpg'"
          ]
        }
      ]
    },
    {
      "cell_type": "markdown",
      "metadata": {
        "id": "Ce9D6LW93t4e",
        "colab_type": "text"
      },
      "source": [
        "### Running the app locally"
      ]
    },
    {
      "cell_type": "markdown",
      "metadata": {
        "id": "019hPmow3t4f",
        "colab_type": "text"
      },
      "source": [
        "You may be running Jupyter Notebook from an interactive coding environment like Gradient, Sagemaker or Salamander. You can also run a Jupyter Notebook server from your local computer. What's more, if you have installed Anaconda you don't even need to install Jupyter (if not, just `pip install jupyter`).\n",
        "\n",
        "You just need to run `jupyter notebook` in your terminal. Remember to run it from a folder that contains all the folders/files you will want to access. You will be able to open, view and edit files located within the directory in which you run this command but not files in parent directories.\n",
        "\n",
        "If a browser tab does not open automatically once you run the command, you should CTRL+CLICK the link starting with 'https://localhost:' and this will open a new tab in your default browser."
      ]
    },
    {
      "cell_type": "markdown",
      "metadata": {
        "id": "7To8d4TZ3t4f",
        "colab_type": "text"
      },
      "source": [
        "### Creating a notebook"
      ]
    },
    {
      "cell_type": "markdown",
      "metadata": {
        "id": "1EfrnYn43t4g",
        "colab_type": "text"
      },
      "source": [
        "Click on 'New' in the upper right corner and 'Python 3' in the drop-down list (we are going to use a [Python kernel](https://github.com/ipython/ipython) for all our experiments).\n",
        "\n",
        "![new_notebook](https://github.com/moonryul/course-v3/blob/master/nbs/dl1/images/notebook_tutorial/new_notebook.png?raw=1)\n",
        "\n",
        "Note: You will sometimes hear people talking about the Notebook 'kernel'. The 'kernel' is just the Python engine that performs the computations for you. "
      ]
    },
    {
      "cell_type": "markdown",
      "metadata": {
        "id": "tTMmygrq3t4h",
        "colab_type": "text"
      },
      "source": [
        "### Shortcuts and tricks"
      ]
    },
    {
      "cell_type": "markdown",
      "metadata": {
        "id": "CzGFLM403t4h",
        "colab_type": "text"
      },
      "source": [
        "#### Command Mode Shortcuts"
      ]
    },
    {
      "cell_type": "markdown",
      "metadata": {
        "id": "yXS_RAjp3t4j",
        "colab_type": "text"
      },
      "source": [
        "There are a couple of useful keyboard shortcuts in `Command Mode` that you can leverage to make Jupyter Notebook faster to use. Remember that to switch back and forth between `Command Mode` and `Edit Mode` with <kbd>Esc</kbd> and <kbd>Enter</kbd>."
      ]
    },
    {
      "cell_type": "markdown",
      "metadata": {
        "id": "qByABwKY3t4k",
        "colab_type": "text"
      },
      "source": [
        "<kbd>m</kbd>: Convert cell to Markdown"
      ]
    },
    {
      "cell_type": "markdown",
      "metadata": {
        "id": "XcvbXTuV3t4l",
        "colab_type": "text"
      },
      "source": [
        "<kbd>y</kbd>: Convert cell to Code"
      ]
    },
    {
      "cell_type": "markdown",
      "metadata": {
        "id": "r2-xTXmS3t4m",
        "colab_type": "text"
      },
      "source": [
        "<kbd>D</kbd>+<kbd>D</kbd>: Delete the cell(if it's not the only cell) or delete the content of the cell and reset cell to Code(if only one cell left)"
      ]
    },
    {
      "cell_type": "markdown",
      "metadata": {
        "id": "uPLXr1Vz3t4n",
        "colab_type": "text"
      },
      "source": [
        "<kbd>o</kbd>: Toggle between hide or show output"
      ]
    },
    {
      "cell_type": "markdown",
      "metadata": {
        "id": "GcICbhHr3t4o",
        "colab_type": "text"
      },
      "source": [
        "<kbd>Shift</kbd>+<kbd>Arrow up/Arrow down</kbd>: Selects multiple cells. Once you have selected them you can operate on them like a batch (run, copy, paste etc)."
      ]
    },
    {
      "cell_type": "markdown",
      "metadata": {
        "id": "_QdFEvWk3t4p",
        "colab_type": "text"
      },
      "source": [
        "<kbd>Shift</kbd>+<kbd>M</kbd>: Merge selected cells."
      ]
    },
    {
      "cell_type": "markdown",
      "metadata": {
        "id": "WgdFGCA83t4r",
        "colab_type": "text"
      },
      "source": [
        "<kbd>Shift</kbd>+<kbd>Tab</kbd>: [press these two buttons at the same time, once] Tells you which parameters to pass on a function\n",
        "\n",
        "<kbd>Shift</kbd>+<kbd>Tab</kbd>: [press these two buttons at the same time, three times] Gives additional information on the method"
      ]
    },
    {
      "cell_type": "markdown",
      "metadata": {
        "id": "FIbsK2Ph3t4s",
        "colab_type": "text"
      },
      "source": [
        "#### Cell Tricks"
      ]
    },
    {
      "cell_type": "code",
      "metadata": {
        "id": "yL--vtAo3t4t",
        "colab_type": "code",
        "colab": {}
      },
      "source": [
        "from fastai import*\n",
        "from fastai.vision import *"
      ],
      "execution_count": null,
      "outputs": []
    },
    {
      "cell_type": "markdown",
      "metadata": {
        "id": "KqZJ44GC3t4w",
        "colab_type": "text"
      },
      "source": [
        "There are also some tricks that you can code into a cell."
      ]
    },
    {
      "cell_type": "markdown",
      "metadata": {
        "id": "6K72a0hw3t4x",
        "colab_type": "text"
      },
      "source": [
        "`?function-name`: Shows the definition and docstring for that function"
      ]
    },
    {
      "cell_type": "code",
      "metadata": {
        "id": "GoTCQKfN3t4x",
        "colab_type": "code",
        "colab": {}
      },
      "source": [
        "?ImageDataBunch"
      ],
      "execution_count": null,
      "outputs": []
    },
    {
      "cell_type": "markdown",
      "metadata": {
        "id": "rQUwFd_w3t42",
        "colab_type": "text"
      },
      "source": [
        "`??function-name`: Shows the source code for that function"
      ]
    },
    {
      "cell_type": "code",
      "metadata": {
        "id": "cZrjV6-z3t43",
        "colab_type": "code",
        "colab": {}
      },
      "source": [
        "??ImageDataBunch"
      ],
      "execution_count": null,
      "outputs": []
    },
    {
      "cell_type": "markdown",
      "metadata": {
        "id": "YKPQxTYu3t47",
        "colab_type": "text"
      },
      "source": [
        "`doc(function-name)`: Shows the definition, docstring **and links to the documentation** of the function\n",
        "(only works with fastai library imported)"
      ]
    },
    {
      "cell_type": "code",
      "metadata": {
        "id": "ENhWPVFx3t48",
        "colab_type": "code",
        "colab": {}
      },
      "source": [
        "doc(ImageDataBunch)"
      ],
      "execution_count": null,
      "outputs": []
    },
    {
      "cell_type": "markdown",
      "metadata": {
        "id": "YPu69htY3t4_",
        "colab_type": "text"
      },
      "source": [
        "#### Line Magics"
      ]
    },
    {
      "cell_type": "markdown",
      "metadata": {
        "id": "radFAYol3t4_",
        "colab_type": "text"
      },
      "source": [
        "Line magics are functions that you can run on cells and take as an argument the rest of the line from where they are called. You call them by placing a '%' sign before the command. The most useful ones are:"
      ]
    },
    {
      "cell_type": "markdown",
      "metadata": {
        "id": "798MCGOW3t5A",
        "colab_type": "text"
      },
      "source": [
        "`%matplotlib inline`: This command ensures that all matplotlib plots will be plotted in the output cell within the notebook and will be kept in the notebook when saved."
      ]
    },
    {
      "cell_type": "markdown",
      "metadata": {
        "id": "ga1nlxdT3t5B",
        "colab_type": "text"
      },
      "source": [
        "`%reload_ext autoreload`, `%autoreload 2`: Reload all modules before executing a new line. If a module is edited, it is not necessary to rerun the import commands, the modules will be reloaded automatically."
      ]
    },
    {
      "cell_type": "markdown",
      "metadata": {
        "id": "mrSnU_0P3t5D",
        "colab_type": "text"
      },
      "source": [
        "These three commands are always called together at the beginning of every notebook."
      ]
    },
    {
      "cell_type": "code",
      "metadata": {
        "id": "eMICO3E53t5E",
        "colab_type": "code",
        "colab": {}
      },
      "source": [
        "%matplotlib inline\n",
        "%reload_ext autoreload\n",
        "%autoreload 2"
      ],
      "execution_count": null,
      "outputs": []
    },
    {
      "cell_type": "markdown",
      "metadata": {
        "id": "EQ53JbPw3t5L",
        "colab_type": "text"
      },
      "source": [
        "`%timeit`: Runs a line a ten thousand times and displays the average time it took to run it."
      ]
    },
    {
      "cell_type": "code",
      "metadata": {
        "id": "vXzVjn1Q3t5L",
        "colab_type": "code",
        "colab": {}
      },
      "source": [
        "%timeit [i+1 for i in range(1000)]"
      ],
      "execution_count": null,
      "outputs": []
    },
    {
      "cell_type": "markdown",
      "metadata": {
        "id": "KMyphOgi3t5Q",
        "colab_type": "text"
      },
      "source": [
        "`%debug`: Allows to inspect a function which is showing an error using the [Python debugger](https://docs.python.org/3/library/pdb.html)."
      ]
    },
    {
      "cell_type": "code",
      "metadata": {
        "id": "bKSmKYn03t5R",
        "colab_type": "code",
        "colab": {}
      },
      "source": [
        "for i in range(1000):\n",
        "    a = i+1\n",
        "    b = 'string'\n",
        "    c = b+1"
      ],
      "execution_count": null,
      "outputs": []
    },
    {
      "cell_type": "code",
      "metadata": {
        "id": "zEKqgE8s3t5W",
        "colab_type": "code",
        "colab": {}
      },
      "source": [
        "%debug"
      ],
      "execution_count": null,
      "outputs": []
    },
    {
      "cell_type": "code",
      "metadata": {
        "id": "K8vXhfvn3t5Y",
        "colab_type": "code",
        "colab": {}
      },
      "source": [
        ""
      ],
      "execution_count": null,
      "outputs": []
    }
  ]
}